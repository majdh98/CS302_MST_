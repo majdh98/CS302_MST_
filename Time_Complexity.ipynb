{
 "cells": [
  {
   "cell_type": "markdown",
   "id": "2dcdd56d",
   "metadata": {},
   "source": [
    "This file contains extensive comparison of run times between Kruskal's algorithm and Prim's algorithm for computing the minimum spanning tree (MST) of a weighted undirected graph. The two algorithms can be found in Graph_MST_library.py. In our version, kruskal runs in O($mlog(m) + mlog(n)$) where we managed to implement and union-find data structure and prim's runs in O($n^2$). This file contains comparisons and analysis in the following order:\n",
    "1. Prim's run time check\n",
    "2. Kruskal run time check\n",
    "3. Dense Graph Comparison\n",
    "4. Sparse Graph Comparison\n"
   ]
  },
  {
   "cell_type": "markdown",
   "id": "3c989f8c",
   "metadata": {},
   "source": [
    "Import libraries and test files."
   ]
  },
  {
   "cell_type": "code",
   "execution_count": 1,
   "id": "728bcbdd",
   "metadata": {},
   "outputs": [],
   "source": [
    "import os\n",
    "from Graph_MST_library import *\n",
    "import time\n",
    "import matplotlib.pyplot as plt\n",
    "\n",
    "  \n",
    "# PLEASE CHANGE THIS PATH TO WHERE THE TEST FIELS ARE STORED IN YOUR COMPUTER\n",
    "path = r\"C:\\Users\\Majd\\Desktop\\Middlebury\\1- Midd Cources\\4- Senior\\1- Fall\\CSCI 302\\HWs\\IPA-2\\CS302_project_group\\MST-Test-Files\"\n",
    "\n",
    "os.chdir(path)\n",
    "  \n",
    "files = []\n",
    "for file in os.listdir():\n",
    "    if file.endswith(\".txt\"):\n",
    "        file_path = f\"{path}\\{file}\"\n",
    "        f = open(file_path, 'r')\n",
    "        files.append([str(file), f.readlines()])\n",
    "        f.close()"
   ]
  },
  {
   "cell_type": "markdown",
   "id": "fbccca1b",
   "metadata": {},
   "source": [
    "## Prim's run time check"
   ]
  },
  {
   "cell_type": "markdown",
   "id": "e4e81bd2",
   "metadata": {},
   "source": [
    "Our algorithm runs in O($n^2$). In theory, its run time should not be affected by whether the graph is dense or sparse or whether the weights are integers or real."
   ]
  },
  {
   "cell_type": "code",
   "execution_count": 13,
   "id": "69c5be06",
   "metadata": {},
   "outputs": [
    {
     "data": {
      "image/png": "[encoded data removed]",
      "text/plain": [
       "<Figure size 432x288 with 1 Axes>"
      ]
     },
     "metadata": {
      "needs_background": "light"
     },
     "output_type": "display_data"
    }
   ],
   "source": [
    "d_i_times = []\n",
    "d_r_times = []\n",
    "s_i_times = []\n",
    "s_r_times = []\n",
    "vdi = []\n",
    "vdr = []\n",
    "vsi = []\n",
    "vsr = []\n",
    "\n",
    "for file in files:\n",
    "    name = file[0].split(\"-\")\n",
    "    file = file[1]\n",
    "    if name[2] == \"dense.txt\":\n",
    "        num_lines = len(file)\n",
    "        # get n and m from first line\n",
    "        g = file[0].split()\n",
    "        n = int(g[0])\n",
    "        m = int(g[1])\n",
    "        # create a graph\n",
    "        g = Graph_kruskal(n, m)\n",
    "        g_2 = Graph_prim(n, m)\n",
    "        # fill graph\n",
    "        for i in range(1, num_lines-1):\n",
    "            line = file[i].split()\n",
    "            u = int(line[0])\n",
    "            v = int(line[1])\n",
    "            w = float(line[2])\n",
    "            g.add_edge([u, v, w])\n",
    "            g_2.add_edge([u, v, w])\n",
    "            \n",
    "        # starting time \n",
    "        start = time.time()\n",
    "        cost, MST = g_2.prim()\n",
    "        # end time\n",
    "        end = time.time()\n",
    "        if name[0] == \"Int\":\n",
    "            d_i_times.append(end-start)\n",
    "            vdi.append(int(name[1]))\n",
    "        else:\n",
    "            d_r_times.append(end-start)\n",
    "            vdr.append(int(name[1]))\n",
    "    else:\n",
    "        num_lines = len(file)\n",
    "        # get n and m from first line\n",
    "        g = file[0].split()\n",
    "        n = int(g[0])\n",
    "        m = int(g[1])\n",
    "        # create a graph\n",
    "        g = Graph_kruskal(n, m)\n",
    "        g_2 = Graph_prim(n, m)\n",
    "        # fill graph\n",
    "        for i in range(1, num_lines-1):\n",
    "            line = file[i].split()\n",
    "            u = int(line[0])\n",
    "            v = int(line[1])\n",
    "            w = float(line[2])\n",
    "            g.add_edge([u, v, w])\n",
    "            g_2.add_edge([u, v, w])\n",
    "            \n",
    "        # starting time \n",
    "        start = time.time()\n",
    "        cost, MST = g_2.prim()\n",
    "        # end time\n",
    "        end = time.time()\n",
    "        if name[0] == \"Int\":\n",
    "            s_i_times.append(end-start)\n",
    "            vsi.append(int(name[1]))\n",
    "        else:\n",
    "            s_r_times.append(end-start)\n",
    "            vsr.append(int(name[1]))        \n",
    "plt.figure(1)\n",
    "plt.scatter(vdi, d_i_times)\n",
    "plt.scatter(vdr, d_r_times)\n",
    "plt.scatter(vsi, s_i_times)\n",
    "plt.scatter(vsr, s_r_times)\n",
    "plt.title(\"Prim's Run time check\")\n",
    "plt.xlabel(\"# of Vertices\")\n",
    "plt.ylabel(\"Run time (sec)\")\n",
    "plt.legend([\"Dense-Int\", \"Dense-Real\", \"Sparse-Int\", \"Sparse-Real\"])\n",
    "plt.show()"
   ]
  },
  {
   "cell_type": "markdown",
   "id": "a2eeba4a",
   "metadata": {},
   "source": [
    "We can see that all the 4 types of possible inputs can be fit by a polynomial of $n^2$ where n is the number of vertices, as expected. An interesting observation is that the dense inputs ran slower than the sparse inputs. This is possibly due to the fact that the condition statements in update_possible_vertices() and in find_min() don't run as much for the case of sparse graphs as it is likely that we won't satisfy the condition statements most of the times since we have an edge weight of inf for every pair vertices that have no edge between them. While the algorithm run faster for sparse graphs, it still runs in O($n^2$) for dense graphs, as expected."
   ]
  },
  {
   "cell_type": "markdown",
   "id": "e4390e91",
   "metadata": {},
   "source": [
    "## Kruskal's run time check"
   ]
  },
  {
   "cell_type": "markdown",
   "id": "3b313568",
   "metadata": {},
   "source": [
    "Kruskal's run in O($mlog(m) + mlog(n)$). We have not written our own sorting algorithm for it but used sorted() from python which runs in O($nlog(n)$). sorted() is using the sorting method Timsort. Timsort shouldn't run any different for integers and real numbers. If there is any difference in the run time for the two data types, it should be significant enough that it changes the run time of the sorting algorithm. The run time for Timsort is still O($nlog(n)) for both integers and reals."
   ]
  },
  {
   "cell_type": "code",
   "execution_count": 11,
   "id": "301531f5",
   "metadata": {},
   "outputs": [
    {
     "data": {
      "image/png": "[encoded data removed]",
      "text/plain": [
       "<Figure size 432x288 with 1 Axes>"
      ]
     },
     "metadata": {
      "needs_background": "light"
     },
     "output_type": "display_data"
    },
    {
     "data": {
      "image/png": "[encoded data removed]",
      "text/plain": [
       "<Figure size 432x288 with 1 Axes>"
      ]
     },
     "metadata": {
      "needs_background": "light"
     },
     "output_type": "display_data"
    }
   ],
   "source": [
    "# here we consider the # of vertices\n",
    "d_i_times = []\n",
    "d_r_times = []\n",
    "s_i_times = []\n",
    "s_r_times = []\n",
    "vdi = []\n",
    "vdr = []\n",
    "vsi = []\n",
    "vsr = []\n",
    "\n",
    "for file in files:\n",
    "    name = file[0].split(\"-\")\n",
    "    file = file[1]\n",
    "    if name[2] == \"dense.txt\":\n",
    "        num_lines = len(file)\n",
    "        # get n and m from first line\n",
    "        g = file[0].split()\n",
    "        n = int(g[0])\n",
    "        m = int(g[1])\n",
    "        # create a graph\n",
    "        g = Graph_kruskal(n, m)\n",
    "        # fill graph\n",
    "        for i in range(1, num_lines-1):\n",
    "            line = file[i].split()\n",
    "            u = int(line[0])\n",
    "            v = int(line[1])\n",
    "            w = float(line[2])\n",
    "            g.add_edge([u, v, w])\n",
    "            \n",
    "        # starting time \n",
    "        start = time.time()\n",
    "        cost, MST = g.kruskal()\n",
    "        # end time\n",
    "        end = time.time()\n",
    "        if name[0] == \"Int\":\n",
    "            d_i_times.append(end-start)\n",
    "            vdi.append(int(name[1]))\n",
    "        else:\n",
    "            d_r_times.append(end-start)\n",
    "            vdr.append(int(name[1]))\n",
    "    else:\n",
    "        num_lines = len(file)\n",
    "        # get n and m from first line\n",
    "        g = file[0].split()\n",
    "        n = int(g[0])\n",
    "        m = int(g[1])\n",
    "        # create a graph\n",
    "        g = Graph_kruskal(n, m)\n",
    "        # fill graph\n",
    "        for i in range(1, num_lines-1):\n",
    "            line = file[i].split()\n",
    "            u = int(line[0])\n",
    "            v = int(line[1])\n",
    "            w = float(line[2])\n",
    "            g.add_edge([u, v, w])\n",
    "            \n",
    "        # starting time \n",
    "        start = time.time()\n",
    "        cost, MST = g.kruskal()\n",
    "        # end time\n",
    "        end = time.time()\n",
    "        if name[0] == \"Int\":\n",
    "            s_i_times.append(end-start)\n",
    "            vsi.append(int(name[1]))\n",
    "        else:\n",
    "            s_r_times.append(end-start)\n",
    "            vsr.append(int(name[1]))        \n",
    "plt.figure(1)\n",
    "plt.scatter(vdi, d_i_times)\n",
    "plt.scatter(vdr, d_r_times)\n",
    "plt.scatter(vsi, s_i_times)\n",
    "plt.scatter(vsr, s_r_times)\n",
    "plt.title(\"Kruska's Run time vs # of vertices\")\n",
    "plt.xlabel(\"# of Vertices\")\n",
    "plt.ylabel(\"Run time (sec)\")\n",
    "plt.legend([\"Dense-Int\", \"Dense-Real\", \"Sparse-Int\", \"Sparse-Real\"])\n",
    "plt.show()\n",
    "\n",
    "\n",
    "# here we consider number of edges\n",
    "i_times = []\n",
    "r_times = []\n",
    "m_i = []\n",
    "m_r = []\n",
    "\n",
    "for file in files:\n",
    "    name = file[0].split(\"-\")\n",
    "    file = file[1]\n",
    "    if name[2] == \"dense.txt\":\n",
    "        num_lines = len(file)\n",
    "        # get n and m from first line\n",
    "        g = file[0].split()\n",
    "        n = int(g[0])\n",
    "        m = int(g[1])\n",
    "        # create a graph\n",
    "        g = Graph_kruskal(n, m)\n",
    "        # fill graph\n",
    "        for i in range(1, num_lines-1):\n",
    "            line = file[i].split()\n",
    "            u = int(line[0])\n",
    "            v = int(line[1])\n",
    "            w = float(line[2])\n",
    "            g.add_edge([u, v, w])\n",
    "            \n",
    "        # starting time \n",
    "        start = time.time()\n",
    "        cost, MST = g.kruskal()\n",
    "        # end time\n",
    "        end = time.time()\n",
    "        if name[0] == \"Int\":\n",
    "            i_times.append(end-start)\n",
    "            m_i.append(m)\n",
    "        else:\n",
    "            r_times.append(end-start)\n",
    "            m_r.append(m)\n",
    "    else:\n",
    "        num_lines = len(file)\n",
    "        # get n and m from first line\n",
    "        g = file[0].split()\n",
    "        n = int(g[0])\n",
    "        m = int(g[1])\n",
    "        # create a graph\n",
    "        g = Graph_kruskal(n, m)\n",
    "        # fill graph\n",
    "        for i in range(1, num_lines-1):\n",
    "            line = file[i].split()\n",
    "            u = int(line[0])\n",
    "            v = int(line[1])\n",
    "            w = float(line[2])\n",
    "            g.add_edge([u, v, w])\n",
    "            \n",
    "        # starting time \n",
    "        start = time.time()\n",
    "        cost, MST = g.kruskal()\n",
    "        # end time\n",
    "        end = time.time()\n",
    "        if name[0] == \"Int\":\n",
    "            i_times.append(end-start)\n",
    "            m_i.append(m)\n",
    "        else:\n",
    "            r_times.append(end-start)\n",
    "            m_r.append(m)      \n",
    "plt.figure(2)\n",
    "plt.scatter(m_i, i_times)\n",
    "plt.scatter(m_r, r_times)\n",
    "plt.title(\"Kruska's Run time vs # of edges \")\n",
    "plt.xlabel(\"# of edges\")\n",
    "plt.ylabel(\"Run time (sec)\")\n",
    "plt.legend([\"Int\", \"Real\"])\n",
    "plt.show()"
   ]
  },
  {
   "cell_type": "markdown",
   "id": "7f7ad4b1",
   "metadata": {},
   "source": [
    "From the first figure, we can see that kruskal clearly runs better for sparse graph. This is expected when we look at time complexity formula as the two terms become close. In the dense graph case, m is on the order of O($n^2$) so the term $mlog(n)$ become small compared to the term $m log(m)$ and run time of the algorithm become $n^2log(n)$ which can be seen in the first graph. The second graph shows a relationship between m and the run time that is either linear of $mlog(m)$. It is hard to tell with the limited test cases we have."
   ]
  },
  {
   "cell_type": "markdown",
   "id": "9f6ae965",
   "metadata": {},
   "source": [
    "## Dense graph comparison"
   ]
  },
  {
   "cell_type": "markdown",
   "id": "8df67ac3",
   "metadata": {},
   "source": [
    " Kruskal's run in O($mlog(m) + mlog(n)$) and Prim's runs in O(n^2). For a dense graph m = O(n^2), so we expect Prim's to run faster than Kruskal's."
   ]
  },
  {
   "cell_type": "code",
   "execution_count": 14,
   "id": "32f24fba",
   "metadata": {},
   "outputs": [
    {
     "data": {
      "image/png": "[encoded data removed]",
      "text/plain": [
       "<Figure size 432x288 with 1 Axes>"
      ]
     },
     "metadata": {
      "needs_background": "light"
     },
     "output_type": "display_data"
    }
   ],
   "source": [
    "# Dense graph comparison\n",
    "k_i_times = []\n",
    "p_i_times = []\n",
    "k_r_times = []\n",
    "p_r_times = []\n",
    "v_i = []\n",
    "v_r = []\n",
    "\n",
    "for file in files:\n",
    "    name = file[0].split(\"-\")\n",
    "    file = file[1]\n",
    "    if name[2] == \"dense.txt\":\n",
    "        num_lines = len(file)\n",
    "        # get n and m from first line\n",
    "        g = file[0].split()\n",
    "        n = int(g[0])\n",
    "        m = int(g[1])\n",
    "        # create a graph\n",
    "        g = Graph_kruskal(n, m)\n",
    "        g_2 = Graph_prim(n, m)\n",
    "        # fill graph\n",
    "        for i in range(1, num_lines-1):\n",
    "            line = file[i].split()\n",
    "            u = int(line[0])\n",
    "            v = int(line[1])\n",
    "            w = float(line[2])\n",
    "            g.add_edge([u, v, w])\n",
    "            g_2.add_edge([u, v, w])\n",
    "            \n",
    "        # starting time \n",
    "        start = time.time()\n",
    "        cost, MST = g.kruskal()\n",
    "        # end time\n",
    "        end = time.time()\n",
    "        if name[0] == \"Int\":\n",
    "            k_i_times.append(end-start)\n",
    "            v_i.append(int(name[1]))\n",
    "        else:\n",
    "            k_r_times.append(end-start)\n",
    "            v_r.append(int(name[1]))\n",
    "        \n",
    "        # starting time \n",
    "        start = time.time()\n",
    "        cost, MST = g_2.prim()\n",
    "        # end time\n",
    "        end = time.time()\n",
    "        if name[0] == \"Int\":\n",
    "            p_i_times.append(end-start)\n",
    "        else:\n",
    "            p_r_times.append(end-start)\n",
    "plt.figure(1)\n",
    "plt.scatter(v_i, p_i_times)\n",
    "plt.scatter(v_i, k_i_times)\n",
    "plt.scatter(v_r, p_r_times)\n",
    "plt.scatter(v_r, k_r_times)\n",
    "plt.title(\"Run Time comparison for dense graphs\")\n",
    "plt.xlabel(\"# of Vertices\")\n",
    "plt.ylabel(\"Run time (sec)\")\n",
    "plt.legend([\"Prim-Int\", \"Kruskal-Int\", \"Prim-Real\", \"Kruskal-Real\"])\n",
    "plt.show()"
   ]
  },
  {
   "cell_type": "markdown",
   "id": "7a6630f6",
   "metadata": {},
   "source": [
    "## Sparse Graph Comparison"
   ]
  },
  {
   "cell_type": "markdown",
   "id": "5881fde9",
   "metadata": {},
   "source": [
    "Kruskal's run in O($mlog(m) + mlog(n)$) and Prim's runs in O(n^2). For a sparse graph we can make the approximation m = O(n), so we expect Kruskal's to run faster than Prim's."
   ]
  },
  {
   "cell_type": "code",
   "execution_count": 15,
   "id": "ebc44357",
   "metadata": {},
   "outputs": [
    {
     "data": {
      "image/png": "[encoded data removed]",
      "text/plain": [
       "<Figure size 432x288 with 1 Axes>"
      ]
     },
     "metadata": {
      "needs_background": "light"
     },
     "output_type": "display_data"
    }
   ],
   "source": [
    "# sparse graph comparison\n",
    "k_i_times = []\n",
    "p_i_times = []\n",
    "k_r_times = []\n",
    "p_r_times = []\n",
    "v_i = []\n",
    "v_r = []\n",
    "for file in files:\n",
    "    name = file[0].split(\"-\")\n",
    "    file = file[1]\n",
    "    if name[2] != \"dense.txt\":\n",
    "        num_lines = len(file)\n",
    "        # get n and m from first line\n",
    "        g = file[0].split()\n",
    "        n = int(g[0])\n",
    "        m = int(g[1])\n",
    "        # create a graph\n",
    "        g = Graph_kruskal(n, m)\n",
    "        g_2 = Graph_prim(n, m)\n",
    "        # fill graph\n",
    "        for i in range(1, num_lines-1):\n",
    "            line = file[i].split()\n",
    "            u = int(line[0])\n",
    "            v = int(line[1])\n",
    "            w = float(line[2])\n",
    "            g.add_edge([u, v, w])\n",
    "            g_2.add_edge([u, v, w])\n",
    "            \n",
    "        # starting time \n",
    "        start = time.time()\n",
    "        cost, MST = g.kruskal()\n",
    "        # end time\n",
    "        end = time.time()\n",
    "        if name[0] == \"Int\":\n",
    "            k_i_times.append(end-start)\n",
    "            v_i.append(int(name[1]))\n",
    "        else:\n",
    "            k_r_times.append(end-start)\n",
    "            v_r.append(int(name[1]))\n",
    "        \n",
    "        # starting time \n",
    "        start = time.time()\n",
    "        cost, MST = g_2.prim()\n",
    "        # end time\n",
    "        end = time.time()\n",
    "        if name[0] == \"Int\":\n",
    "            p_i_times.append(end-start)\n",
    "        else:\n",
    "            p_r_times.append(end-start)\n",
    "\n",
    "plt.figure(2)\n",
    "plt.scatter(v_i, p_i_times)\n",
    "plt.scatter(v_i, k_i_times)\n",
    "plt.scatter(v_r, p_r_times)\n",
    "plt.scatter(v_r, k_r_times)\n",
    "plt.title(\"Run Time comparison for sparse graphs\")\n",
    "plt.xlabel(\"# of Vertices\")\n",
    "plt.ylabel(\"Run time (sec)\")\n",
    "plt.legend([\"Prim-Int\", \"Kruskal-Int\", \"Prim-Real\", \"Kruskal-Real\"])\n",
    "plt.show()"
   ]
  }
 ],
 "metadata": {
  "kernelspec": {
   "display_name": "Python 3",
   "language": "python",
   "name": "python3"
  },
  "language_info": {
   "codemirror_mode": {
    "name": "ipython",
    "version": 3
   },
   "file_extension": ".py",
   "mimetype": "text/x-python",
   "name": "python",
   "nbconvert_exporter": "python",
   "pygments_lexer": "ipython3",
   "version": "3.8.8"
  }
 },
 "nbformat": 4,
 "nbformat_minor": 5
}
